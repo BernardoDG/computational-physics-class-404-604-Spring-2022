{
 "cells": [
  {
   "cell_type": "markdown",
   "id": "3c017954",
   "metadata": {},
   "source": [
    "# Lecture 3 Homework\n",
    "## Bernardo Gutierrez\n",
    "\n",
    "1) Calculate and plot the ratio F(n)/F(n-1) with respect to n using memorization method. \n",
    "\n",
    "2) \n",
    "\n",
    "    a) Use the Recursion method, Tabulation method,  and matrix method to calculate the time spent for different n (e.g. 1, 10, 100, 1000, 10000, … uniform in the log space). (caution: recursion method will break when n>100)\n",
    "\n",
    "    b) For each method, output the time and n into a file\n",
    "       \n",
    "    c) Read from the file and plot log(time) (y-axis) vs. log(n) (x-axis) for different methods. \n",
    "       \n",
    "    d) Discuss the complexity of each method."
   ]
  },
  {
   "cell_type": "code",
   "execution_count": 1,
   "id": "36fe9101",
   "metadata": {},
   "outputs": [],
   "source": [
    "#this is the recursive method function\n",
    "def fib2(n):\n",
    "    if n == 0: return 0\n",
    "    elif n == 1: return 1\n",
    "    else: return fib2(n-1)+fib2(n-2)"
   ]
  },
  {
   "cell_type": "code",
   "execution_count": 87,
   "id": "efcfe18a",
   "metadata": {},
   "outputs": [],
   "source": [
    "#this is the memorization method function\n",
    "def fib3(n, table):\n",
    "    if n == 0 or n==1:\n",
    "        table[n]=n\n",
    "    \n",
    "    if table[n] is None:\n",
    "        table[n] = fib3(n-1,table)+fib3(n-2,table)\n",
    "        \n",
    "    return table[n]"
   ]
  },
  {
   "cell_type": "code",
   "execution_count": 88,
   "id": "c1ef9186",
   "metadata": {},
   "outputs": [],
   "source": [
    "#this is the tabulation method function\n",
    "def fib4(n):\n",
    "    table=[0]*(n+1)\n",
    "    table[1] = 1\n",
    "       \n",
    "    for i in range(2,n+1):\n",
    "        table[i]= table[i-1]+table[i-2]\n",
    "        \n",
    "    return table[n]"
   ]
  },
  {
   "cell_type": "code",
   "execution_count": 229,
   "id": "eed2247f",
   "metadata": {},
   "outputs": [],
   "source": [
    "#this is the matrix method code\n",
    "def arrpow(arr, n):\n",
    "    yarr=arr\n",
    "    if n<1:\n",
    "        print('n needs to be larger than 1')\n",
    "    if n==1:\n",
    "        return arr\n",
    "    yarr = arrpow(arr, n//2)\n",
    "    yarr = [[yarr[0][0]*yarr[0][0]+yarr[0][1]*yarr[1][0],yarr[0][0]*yarr[0][1]+yarr[0][1]*yarr[1][1]],\n",
    "            [yarr[1][0]*yarr[0][0]+yarr[1][1]*yarr[1][0],yarr[1][0]*yarr[0][1]+yarr[1][1]*yarr[1][1]]]\n",
    "    if n%2:\n",
    "        yarr=[[yarr[0][0]*arr[0][0]+yarr[0][1]*arr[1][0],yarr[0][0]*arr[0][1]+yarr[0][1]*arr[1][1]],\n",
    "            [yarr[1][0]*arr[0][0]+yarr[1][1]*arr[1][0],yarr[1][0]*arr[0][1]+yarr[1][1]*arr[1][1]]]\n",
    "    return yarr\n",
    "\n",
    "def fib5(n):\n",
    "    arr= [[1,1],[1,0]]\n",
    "    f=arrpow(arr,n-1)[0][0]\n",
    "    return f"
   ]
  },
  {
   "cell_type": "markdown",
   "id": "2c0ae67a",
   "metadata": {},
   "source": [
    "1) Calculate and plot the ratio F(n)/F(n-1) with respect to n using memorization method. "
   ]
  },
  {
   "cell_type": "code",
   "execution_count": 264,
   "id": "8ef923f0",
   "metadata": {},
   "outputs": [
    {
     "data": {
      "image/png": "[encoded data removed]",
      "text/plain": [
       "<Figure size 432x288 with 1 Axes>"
      ]
     },
     "metadata": {
      "needs_background": "light"
     },
     "output_type": "display_data"
    }
   ],
   "source": [
    "import numpy as np\n",
    "import matplotlib.pyplot as plt\n",
    "\n",
    "n=20\n",
    "table = [None]*(n+1)\n",
    "\n",
    "fib3(n,table)\n",
    "#using the memorization method i can write to a table an then call it to calculate F(n)/F(n-1)\n",
    "\n",
    "goldrat=[] #this is an empty list that I write to with the forloop\n",
    "for i in range(2,n+1):\n",
    "    ratio=table[i]/table[i-1] #each iteration I calculate the ratio and then append to the empty list\n",
    "    goldrat=np.append(goldrat,ratio)\n",
    "\n",
    "plt.plot(np.arange(2,n+1),goldrat)\n",
    "plt.xlabel('n')\n",
    "plt.ylabel('f(n)/f(n-1)')\n",
    "plt.show()"
   ]
  },
  {
   "cell_type": "markdown",
   "id": "2eeaf04c",
   "metadata": {},
   "source": [
    "2) \n",
    "\n",
    "    a) Use the Recursion method, Tabulation method,  and matrix method to calculate the time spent for different n (e.g. 1, 10, 100, 1000, 10000, … uniform in the log space). (caution: recursion method will break when n>100)\n",
    "\n",
    "    b) For each method, output the time and n into a file\n",
    "       \n",
    "    c) Read from the file and plot log(time) (y-axis) vs. log(n) (x-axis) for different methods. \n",
    "       \n",
    "    d) Discuss the complexity of each method."
   ]
  },
  {
   "cell_type": "code",
   "execution_count": 97,
   "id": "88f6b24b",
   "metadata": {},
   "outputs": [
    {
     "name": "stdout",
     "output_type": "stream",
     "text": [
      "1 0.0\n",
      "4 0.0\n",
      "7 0.0\n",
      "10 0.0\n",
      "13 0.0\n",
      "16 0.0020105838775634766\n",
      "19 0.006000041961669922\n",
      "22 0.02399754524230957\n",
      "25 0.10003495216369629\n",
      "28 0.42609620094299316\n",
      "31 1.764397144317627\n",
      "34 7.476676940917969\n",
      "37 31.493104219436646\n",
      "40 135.01619052886963\n"
     ]
    }
   ],
   "source": [
    "n2=np.arange(1,41,3)\n",
    "time2=np.zeros(n2.size)\n",
    "for i in range(n2.size): #this loop calculates fibonacci numbers and writes the index and time to n2 and time2\n",
    "    start_time = time.time()\n",
    "    temp=fib2(n2[i])\n",
    "    time2[i] = time.time()-start_time #must call time before and after the function\n",
    "    print(n2[i],time2[i])\n"
   ]
  },
  {
   "cell_type": "code",
   "execution_count": 255,
   "id": "5d758826",
   "metadata": {},
   "outputs": [],
   "source": [
    "import pandas as pd #pandas let's me export the n2 and timem2 arrays to a csv\n",
    "data = {'n':n2,'time':time2}\n",
    "df= pd.DataFrame(data,columns=['n','time'])\n",
    "df.to_csv('recursive.csv')"
   ]
  },
  {
   "cell_type": "code",
   "execution_count": 272,
   "id": "762d96ad",
   "metadata": {},
   "outputs": [
    {
     "data": {
      "image/png": "[encoded data removed]",
      "text/plain": [
       "<Figure size 432x288 with 1 Axes>"
      ]
     },
     "metadata": {
      "needs_background": "light"
     },
     "output_type": "display_data"
    }
   ],
   "source": [
    "df = pd.read_csv('recursive.csv')\n",
    "df.plot(x ='n', y='time', kind = 'line',loglog=True)\n",
    "plt.title('Recursive Method Time per Itteration')\n",
    "plt.show()"
   ]
  },
  {
   "cell_type": "code",
   "execution_count": 267,
   "id": "9cbdc24d",
   "metadata": {},
   "outputs": [
    {
     "name": "stdout",
     "output_type": "stream",
     "text": [
      "6500 0.00802302360534668\n",
      "11500 0.03601360321044922\n",
      "16500 0.056009769439697266\n",
      "21500 0.10004353523254395\n",
      "26500 0.156219482421875\n",
      "31500 0.18003320693969727\n",
      "36500 0.25209808349609375\n",
      "41500 0.3169846534729004\n",
      "46500 0.35478758811950684\n",
      "51500 0.42558908462524414\n",
      "56500 0.4741833209991455\n",
      "61500 0.544339656829834\n",
      "66500 0.6282505989074707\n",
      "71500 0.7001364231109619\n",
      "76500 0.797762393951416\n",
      "81500 0.8354315757751465\n",
      "86500 0.9100978374481201\n",
      "91500 0.9374916553497314\n",
      "96500 0.750788688659668\n",
      "101500 0.7109887599945068\n",
      "106500 0.7821013927459717\n",
      "111500 0.8572461605072021\n",
      "116500 0.8992033004760742\n",
      "121500 1.0018353462219238\n",
      "126500 1.0698225498199463\n",
      "131500 1.1730988025665283\n",
      "136500 1.20884370803833\n",
      "141500 1.2728099822998047\n",
      "146500 1.4221017360687256\n",
      "151500 1.621352195739746\n",
      "156500 1.7117743492126465\n",
      "161500 1.877120018005371\n",
      "166500 1.9376208782196045\n",
      "171500 1.9760410785675049\n",
      "176500 2.157679557800293\n",
      "181500 1.8891823291778564\n",
      "186500 1.1208453178405762\n",
      "191500 2.7882959842681885\n",
      "196500 4.485198259353638\n",
      "201500 5.075445652008057\n"
     ]
    }
   ],
   "source": [
    "#this code is similar to the recursive method code \n",
    "n4=np.arange(6500,205000,5000) #start position is changed  sinse smaller values result in t=0\n",
    "time4=np.zeros(n4.size)\n",
    "\n",
    "for i in range(n4.size):\n",
    "    table3=[None]*(i*5000+6500)\n",
    "    start_time = time.time()\n",
    "    temp=fib4(i*5000+6500)\n",
    "    time4[i] = time.time()-start_time\n",
    "    print(n4[i],time4[i])"
   ]
  },
  {
   "cell_type": "code",
   "execution_count": 268,
   "id": "ae4b5508",
   "metadata": {},
   "outputs": [],
   "source": [
    "import pandas as pd\n",
    "data = {'n':n4,'time':time4}\n",
    "df= pd.DataFrame(data,columns=['n','time'])\n",
    "df.to_csv('tabulation_method.csv')"
   ]
  },
  {
   "cell_type": "code",
   "execution_count": 270,
   "id": "2c3e358c",
   "metadata": {},
   "outputs": [
    {
     "data": {
      "image/png": "[encoded data removed]",
      "text/plain": [
       "<Figure size 432x288 with 1 Axes>"
      ]
     },
     "metadata": {
      "needs_background": "light"
     },
     "output_type": "display_data"
    }
   ],
   "source": [
    "df = pd.read_csv('tabulation_method.csv')\n",
    "df.plot(x ='n', y='time', kind = 'line',loglog=True)\n",
    "plt.title('Tabulation Method Time per Itterations')\n",
    "plt.show()"
   ]
  },
  {
   "cell_type": "code",
   "execution_count": 276,
   "id": "f9c15c04",
   "metadata": {},
   "outputs": [
    {
     "name": "stdout",
     "output_type": "stream",
     "text": [
      "100000 0.012002706527709961\n",
      "105000 0.008002281188964844\n",
      "110000 0.00800180435180664\n",
      "115000 0.00800013542175293\n",
      "120000 0.012004852294921875\n",
      "125000 0.012021064758300781\n",
      "130000 0.016004323959350586\n",
      "135000 0.016004085540771484\n",
      "140000 0.016194581985473633\n",
      "145000 0.016004085540771484\n",
      "150000 0.012002944946289062\n",
      "155000 0.012002944946289062\n",
      "160000 0.020000934600830078\n",
      "165000 0.01974010467529297\n",
      "170000 0.020004749298095703\n",
      "175000 0.023998498916625977\n",
      "180000 0.02001357078552246\n",
      "185000 0.020005226135253906\n",
      "190000 0.019997119903564453\n",
      "195000 0.02799057960510254\n",
      "200000 0.036026716232299805\n",
      "205000 0.03600955009460449\n",
      "210000 0.036009788513183594\n",
      "215000 0.03600931167602539\n",
      "220000 0.03600955009460449\n",
      "225000 0.0400090217590332\n",
      "230000 0.0360112190246582\n",
      "235000 0.03600931167602539\n",
      "240000 0.035996437072753906\n",
      "245000 0.04402470588684082\n",
      "250000 0.04401087760925293\n",
      "255000 0.0479884147644043\n",
      "260000 0.04801201820373535\n",
      "265000 0.048001766204833984\n",
      "270000 0.05203080177307129\n",
      "275000 0.060004472732543945\n",
      "280000 0.05601382255554199\n",
      "285000 0.060018062591552734\n",
      "290000 0.05602741241455078\n",
      "295000 0.056023597717285156\n",
      "300000 0.06002354621887207\n",
      "305000 0.060014963150024414\n",
      "310000 0.056034088134765625\n",
      "315000 0.056006431579589844\n",
      "320000 0.06802606582641602\n",
      "325000 0.06801056861877441\n",
      "330000 0.06401705741882324\n",
      "335000 0.0760190486907959\n",
      "340000 0.06802892684936523\n",
      "345000 0.0720360279083252\n",
      "350000 0.07201075553894043\n",
      "355000 0.07202696800231934\n",
      "360000 0.07600784301757812\n",
      "365000 0.07623147964477539\n",
      "370000 0.08380246162414551\n",
      "375000 0.08003854751586914\n",
      "380000 0.08402299880981445\n",
      "385000 0.08400487899780273\n",
      "390000 0.08803820610046387\n",
      "395000 0.08802390098571777\n",
      "400000 0.09222197532653809\n",
      "405000 0.10002970695495605\n",
      "410000 0.0960240364074707\n",
      "415000 0.10002660751342773\n",
      "420000 0.10401082038879395\n",
      "425000 0.11204075813293457\n",
      "430000 0.10802388191223145\n",
      "435000 0.10802793502807617\n",
      "440000 0.11602973937988281\n",
      "445000 0.11644506454467773\n",
      "450000 0.12003135681152344\n",
      "455000 0.1120295524597168\n",
      "460000 0.1122281551361084\n",
      "465000 0.11604189872741699\n",
      "470000 0.11202788352966309\n",
      "475000 0.1165015697479248\n",
      "480000 0.1120307445526123\n",
      "485000 0.1198265552520752\n",
      "490000 0.1280519962310791\n",
      "495000 0.12403178215026855\n",
      "500000 0.1320343017578125\n",
      "505000 0.13604307174682617\n"
     ]
    }
   ],
   "source": [
    "#this code is for the matrix method\n",
    "n5=np.arange(100000,510000,5000)\n",
    "time5=np.zeros(n5.size)\n",
    "\n",
    "for i in range(n5.size):\n",
    "    table3=[None]*(i*5000+100000)\n",
    "    start_time = time.time()\n",
    "    temp=fib5(i*5000+100000)\n",
    "    time5[i] = time.time()-start_time\n",
    "    print(n5[i],time5[i])"
   ]
  },
  {
   "cell_type": "code",
   "execution_count": 277,
   "id": "81816c8c",
   "metadata": {},
   "outputs": [],
   "source": [
    "import pandas as pd\n",
    "data = {'n':n5,'time':time5}\n",
    "df= pd.DataFrame(data,columns=['n','time'])\n",
    "df.to_csv('matrix_method.csv')"
   ]
  },
  {
   "cell_type": "code",
   "execution_count": 278,
   "id": "c46ff9f9",
   "metadata": {},
   "outputs": [
    {
     "data": {
      "image/png": "[encoded data removed]",
      "text/plain": [
       "<Figure size 432x288 with 1 Axes>"
      ]
     },
     "metadata": {
      "needs_background": "light"
     },
     "output_type": "display_data"
    }
   ],
   "source": [
    "df = pd.read_csv('matrix_method.csv')\n",
    "df.plot(x ='n', y='time', kind = 'line',loglog=True)\n",
    "plt.show()"
   ]
  },
  {
   "cell_type": "markdown",
   "id": "431cdf0b",
   "metadata": {},
   "source": [
    "The recursive method is clearly more complex than the other two methods and from the curvature it seems to have an exponetinal complexity. The tabulation method looks seemingly straight so it could be linear or it could be nlogn. The matrix method is by far the least complex and it should be logn"
   ]
  },
  {
   "cell_type": "code",
   "execution_count": null,
   "id": "f6df46f7",
   "metadata": {},
   "outputs": [],
   "source": []
  }
 ],
 "metadata": {
  "kernelspec": {
   "display_name": "Python 3",
   "language": "python",
   "name": "python3"
  },
  "language_info": {
   "codemirror_mode": {
    "name": "ipython",
    "version": 3
   },
   "file_extension": ".py",
   "mimetype": "text/x-python",
   "name": "python",
   "nbconvert_exporter": "python",
   "pygments_lexer": "ipython3",
   "version": "3.8.8"
  }
 },
 "nbformat": 4,
 "nbformat_minor": 5
}
