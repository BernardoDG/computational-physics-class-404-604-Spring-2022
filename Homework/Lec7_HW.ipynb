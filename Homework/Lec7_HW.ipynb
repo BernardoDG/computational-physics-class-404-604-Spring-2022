{
 "cells": [
  {
   "cell_type": "markdown",
   "id": "0d5ee798",
   "metadata": {},
   "source": [
    "# Lecture 7 Assignment\n",
    "## Bernardo Gutierrez\n",
    "\n",
    "A person throws a ball upwards at a speed of 10 m/s, please calculate the trajectory using Runge-Kutta method and plot height (z) vs time (t)."
   ]
  },
  {
   "cell_type": "code",
   "execution_count": 6,
   "id": "b70c4912",
   "metadata": {},
   "outputs": [
    {
     "data": {
      "image/png": "[encoded data removed]",
      "text/plain": [
       "<Figure size 432x288 with 1 Axes>"
      ]
     },
     "metadata": {
      "needs_background": "light"
     },
     "output_type": "display_data"
    }
   ],
   "source": [
    "import numpy as np\n",
    "import matplotlib.pyplot as plt\n",
    "#I'll start off by importing my RK4 solver\n",
    "\n",
    "def rk4(t, h, y, n):\n",
    "    k1 = np.zeros(n)\n",
    "    k2 = np.zeros(n)\n",
    "    k3 = np.zeros(n)\n",
    "    k4 = np.zeros(n)\n",
    "    k1=h*f(t,y)\n",
    "    k2=h*f(t+0.5*h,y+0.5*k1)\n",
    "    k3=h*f(t+0.5*h,y+0.5*k2)\n",
    "    k4=h*f(t+h,y+k3)\n",
    "    y+=1./6.*(k1+2*k2+2*k3+k4)\n",
    "    return y\n",
    "\n",
    "#Now I can import the parameters of our system and the EOMs\n",
    "tend=2\n",
    "h=0.01\n",
    "y=[0.,10.]\n",
    "t=0\n",
    "g=-10 #m/s**2\n",
    "\n",
    "def f(t, y):\n",
    "    f=np.zeros(2)\n",
    "    f[1]=g\n",
    "    f[0]=y[1]\n",
    "    return f\n",
    "\n",
    "#now I run the code for time step h till tend and plot\n",
    "tp=[]\n",
    "y0p=[]\n",
    "\n",
    "while(t<tend):\n",
    "    if((t+h)>tend):\n",
    "        h=tend-t\n",
    "    y = rk4(t,h,y,2)\n",
    "    y0p=np.append(y0p,y[0])\n",
    "    t = t+h\n",
    "    tp=np.append(tp,t)\n",
    "\n",
    "plt.plot(tp,y0p)\n",
    "plt.show()"
   ]
  },
  {
   "cell_type": "code",
   "execution_count": null,
   "id": "4c196344",
   "metadata": {},
   "outputs": [],
   "source": []
  }
 ],
 "metadata": {
  "kernelspec": {
   "display_name": "Python 3",
   "language": "python",
   "name": "python3"
  },
  "language_info": {
   "codemirror_mode": {
    "name": "ipython",
    "version": 3
   },
   "file_extension": ".py",
   "mimetype": "text/x-python",
   "name": "python",
   "nbconvert_exporter": "python",
   "pygments_lexer": "ipython3",
   "version": "3.8.8"
  }
 },
 "nbformat": 4,
 "nbformat_minor": 5
}
